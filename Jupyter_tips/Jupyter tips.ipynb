{
 "cells": [
  {
   "cell_type": "markdown",
   "metadata": {},
   "source": [
    "# Run command as a command line directly"
   ]
  },
  {
   "cell_type": "code",
   "execution_count": null,
   "metadata": {},
   "outputs": [],
   "source": [
    "# Equivalent to :\n",
    "# import os\n",
    "# os.run('package.py')\n",
    "%run package"
   ]
  },
  {
   "cell_type": "markdown",
   "metadata": {},
   "source": [
    "# Add a summary to a notebook"
   ]
  },
  {
   "cell_type": "markdown",
   "metadata": {},
   "source": [
    "## <a id='section0'>Table of contents</a>"
   ]
  },
  {
   "cell_type": "markdown",
   "metadata": {},
   "source": [
    "<ol>\n",
    "    <li><a href='#section1'>Import library</a></li>\n",
    "    <li><a href='#section2'>Settings</a>\n",
    "        <ul>\n",
    "            <li><a href='#section21'>Credentials</a></li>"
   ]
  },
  {
   "cell_type": "markdown",
   "metadata": {},
   "source": [
    "Lorem ipsum dolor sit amet, consectetur adipiscing elit, sed do eiusmod tempor incididunt ut labore et dolore magna aliqua. Porttitor leo a diam sollicitudin tempor id eu nisl nunc. Posuere morbi leo urna molestie. In hac habitasse platea dictumst vestibulum rhoncus est pellentesque elit. Morbi tempus iaculis urna id volutpat. Convallis posuere morbi leo urna molestie. Pulvinar elementum integer enim neque volutpat ac. Sagittis aliquam malesuada bibendum arcu vitae elementum curabitur. Pellentesque sit amet porttitor eget dolor morbi non arcu. Gravida neque convallis a cras semper auctor neque. Diam quis enim lobortis scelerisque fermentum dui faucibus in ornare. Id eu nisl nunc mi ipsum faucibus vitae aliquet. Duis at consectetur lorem donec massa sapien faucibus et. Accumsan in nisl nisi scelerisque eu. Amet est placerat in egestas erat.\n",
    "\n",
    "Id consectetur purus ut faucibus. In ornare quam viverra orci sagittis eu volutpat odio facilisis. Ultricies mi quis hendrerit dolor magna eget est lorem ipsum. Et netus et malesuada fames ac turpis. Ornare lectus sit amet est placerat in. Pellentesque habitant morbi tristique senectus et netus et malesuada. Est ante in nibh mauris cursus mattis. Consequat mauris nunc congue nisi. Faucibus vitae aliquet nec ullamcorper sit amet risus nullam. In ante metus dictum at tempor commodo. Mauris rhoncus aenean vel elit scelerisque mauris. Varius vel pharetra vel turpis. Iaculis eu non diam phasellus. Posuere lorem ipsum dolor sit. Convallis convallis tellus id interdum velit laoreet. Quisque non tellus orci ac auctor. Vitae turpis massa sed elementum tempus egestas. Dolor sed viverra ipsum nunc aliquet bibendum enim. Netus et malesuada fames ac turpis egestas integer. Velit euismod in pellentesque massa placerat duis ultricies.\n",
    "\n",
    "Duis at tellus at urna condimentum mattis. Ornare arcu odio ut sem nulla pharetra. Eleifend mi in nulla posuere sollicitudin aliquam ultrices sagittis orci. Gravida quis blandit turpis cursus in. Et netus et malesuada fames ac turpis egestas sed. Sit amet facilisis magna etiam tempor orci eu lobortis elementum. Fermentum iaculis eu non diam phasellus vestibulum lorem sed. Non consectetur a erat nam at lectus urna duis convallis. Pharetra magna ac placerat vestibulum lectus mauris ultrices. Ullamcorper a lacus vestibulum sed arcu non odio euismod lacinia. Dignissim enim sit amet venenatis urna cursus. Semper feugiat nibh sed pulvinar proin gravida hendrerit lectus. Scelerisque mauris pellentesque pulvinar pellentesque habitant morbi. Semper auctor neque vitae tempus quam pellentesque.\n",
    "\n",
    "Sagittis eu volutpat odio facilisis. Aliquet porttitor lacus luctus accumsan. Quis enim lobortis scelerisque fermentum dui. Integer enim neque volutpat ac tincidunt vitae semper quis. Rhoncus est pellentesque elit ullamcorper. Nam libero justo laoreet sit amet cursus sit amet. Interdum velit euismod in pellentesque massa placerat duis ultricies lacus. Luctus accumsan tortor posuere ac ut consequat semper viverra. Id neque aliquam vestibulum morbi blandit cursus risus at. Massa vitae tortor condimentum lacinia quis. Integer vitae justo eget magna fermentum iaculis eu non. At erat pellentesque adipiscing commodo elit at imperdiet. Porttitor massa id neque aliquam.\n",
    "\n",
    "Facilisi morbi tempus iaculis urna id volutpat. Eleifend quam adipiscing vitae proin sagittis nisl rhoncus. Eu facilisis sed odio morbi quis commodo odio aenean sed. Nisl pretium fusce id velit. Curabitur gravida arcu ac tortor. Rhoncus aenean vel elit scelerisque mauris pellentesque pulvinar pellentesque habitant. Sed libero enim sed faucibus turpis in. Vestibulum rhoncus est pellentesque elit ullamcorper dignissim cras tincidunt lobortis. Lectus arcu bibendum at varius vel pharetra vel. A pellentesque sit amet porttitor eget dolor morbi. Pellentesque elit ullamcorper dignissim cras tincidunt lobortis feugiat vivamus. Dui sapien eget mi proin sed. Ultrices vitae auctor eu augue ut lectus arcu bibendum.\n",
    "\n",
    "Facilisis leo vel fringilla est ullamcorper. Adipiscing vitae proin sagittis nisl rhoncus mattis rhoncus urna neque. Sed faucibus turpis in eu mi bibendum. Et netus et malesuada fames. Est pellentesque elit ullamcorper dignissim cras tincidunt lobortis. Pellentesque dignissim enim sit amet. Eu augue ut lectus arcu bibendum at varius. Scelerisque purus semper eget duis. Blandit libero volutpat sed cras ornare arcu dui vivamus arcu. Interdum velit euismod in pellentesque massa placerat duis. Diam sollicitudin tempor id eu nisl nunc mi ipsum faucibus. Fringilla ut morbi tincidunt augue interdum velit euismod. Metus vulputate eu scelerisque felis. Eget mi proin sed libero enim sed faucibus turpis in. At elementum eu facilisis sed odio morbi quis. Nunc consequat interdum varius sit amet mattis vulputate enim nulla.\n",
    "\n",
    "Tellus pellentesque eu tincidunt tortor aliquam nulla facilisi cras fermentum. Sed elementum tempus egestas sed sed risus pretium. Odio aenean sed adipiscing diam. Id nibh tortor id aliquet lectus proin. Imperdiet massa tincidunt nunc pulvinar sapien et. Ut sem nulla pharetra diam sit. Id aliquet lectus proin nibh nisl condimentum. Et pharetra pharetra massa massa ultricies mi. Bibendum arcu vitae elementum curabitur vitae nunc sed velit dignissim. Porta nibh venenatis cras sed. Mi ipsum faucibus vitae aliquet nec ullamcorper sit amet risus. In hendrerit gravida rutrum quisque. Suspendisse sed nisi lacus sed viverra tellus in hac. Sagittis vitae et leo duis. Aliquam etiam erat velit scelerisque in. In hac habitasse platea dictumst. Non arcu risus quis varius. Magna ac placerat vestibulum lectus mauris ultrices eros. Amet venenatis urna cursus eget nunc scelerisque viverra mauris.\n",
    "\n",
    "Quis varius quam quisque id. Aenean sed adipiscing diam donec. Ipsum dolor sit amet consectetur adipiscing elit. Aliquet nec ullamcorper sit amet risus nullam. Mauris in aliquam sem fringilla ut morbi tincidunt augue. Facilisis leo vel fringilla est ullamcorper eget. Nec dui nunc mattis enim ut. Massa massa ultricies mi quis hendrerit. Tincidunt arcu non sodales neque sodales ut etiam sit amet. Metus aliquam eleifend mi in nulla. Phasellus faucibus scelerisque eleifend donec pretium. Tristique et egestas quis ipsum suspendisse. Nunc mi ipsum faucibus vitae aliquet nec. Ipsum consequat nisl vel pretium.\n",
    "\n",
    "Auctor neque vitae tempus quam pellentesque nec. Sit amet tellus cras adipiscing enim. Mattis aliquam faucibus purus in massa tempor nec feugiat nisl. Etiam erat velit scelerisque in dictum. Et malesuada fames ac turpis egestas integer eget. Malesuada bibendum arcu vitae elementum curabitur vitae nunc sed. Consequat mauris nunc congue nisi vitae. Est pellentesque elit ullamcorper dignissim. Faucibus ornare suspendisse sed nisi lacus. Tincidunt nunc pulvinar sapien et ligula ullamcorper malesuada proin. Lectus magna fringilla urna porttitor rhoncus dolor purus non. Integer eget aliquet nibh praesent. Ac turpis egestas maecenas pharetra convallis posuere.\n",
    "\n",
    "Faucibus scelerisque eleifend donec pretium vulputate sapien nec sagittis aliquam. Consectetur libero id faucibus nisl tincidunt eget. In arcu cursus euismod quis viverra nibh. Non arcu risus quis varius quam. Ipsum dolor sit amet consectetur adipiscing elit duis tristique sollicitudin. Ut eu sem integer vitae justo. Feugiat in fermentum posuere urna nec tincidunt praesent semper feugiat. Sit amet purus gravida quis blandit turpis cursus in. Habitant morbi tristique senectus et netus et malesuada. Eu sem integer vitae justo eget magna. Arcu dictum varius duis at consectetur lorem donec. Et pharetra pharetra massa massa ultricies. Gravida cum sociis natoque penatibus."
   ]
  },
  {
   "cell_type": "markdown",
   "metadata": {},
   "source": [
    "## <a id='section1'>Import library</a>\n",
    "##### <li><a href='#section0'>Back to Table of contents</a></li>"
   ]
  },
  {
   "cell_type": "markdown",
   "metadata": {},
   "source": [
    "## <a id='section2'>Settings</a>\n",
    "##### <li><a href='#section0'>Back to Table of contents</a></li>"
   ]
  },
  {
   "cell_type": "markdown",
   "metadata": {},
   "source": [
    "#### <a id='section21'>Credentials</a>"
   ]
  },
  {
   "cell_type": "code",
   "execution_count": null,
   "metadata": {},
   "outputs": [],
   "source": []
  }
 ],
 "metadata": {
  "kernelspec": {
   "display_name": "Python 3",
   "language": "python",
   "name": "python3"
  },
  "language_info": {
   "codemirror_mode": {
    "name": "ipython",
    "version": 3
   },
   "file_extension": ".py",
   "mimetype": "text/x-python",
   "name": "python",
   "nbconvert_exporter": "python",
   "pygments_lexer": "ipython3",
   "version": "3.6.7"
  }
 },
 "nbformat": 4,
 "nbformat_minor": 2
}
